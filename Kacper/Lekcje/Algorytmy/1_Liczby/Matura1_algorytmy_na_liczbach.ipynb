{
 "cells": [
  {
   "cell_type": "markdown",
   "id": "bf71b02d-b1ec-4d1c-9422-2e77e3369b7c",
   "metadata": {},
   "source": [
    "# Algorytmy na liczbach - zamiana systemów liczbowych i liczby pierwsze\n",
    "\n",
    "Aleksandra Puślecka"
   ]
  },
  {
   "cell_type": "markdown",
   "id": "8db8dbfb-da74-4b2b-94d0-dcf448c92e79",
   "metadata": {},
   "source": [
    "#### Wymagania Maturalne\n",
    "#### 1) planuje kolejne kroki rozwiązywania problemu, z uwzględnieniem podstawowych etapów myślenia komputacyjnego (określenie problemu, definicja modeli i pojęć, znalezienie rozwiązania, zaprogramowanie i testowanie rozwiązania);\n"
   ]
  },
  {
   "cell_type": "markdown",
   "id": "ac92a47a-6f54-4ee3-ac80-3b13ed58a90c",
   "metadata": {},
   "source": [
    "# Etapy myślenia komputacyjnego\n",
    "1. Definiowanie problemu – określenie istoty problemu i oczekiwanego rozwiązania.\n",
    "2. Dekonstrukcja – rozbicie problemu na mniejsze, łatwiejsze do rozwiązania części.\n",
    "3. Rozpoznawanie wzorców – szukanie podobieństw z wcześniejszymi problemami.\n",
    "4. Abstrakcja – skupienie na istotnych elementach, pominięcie szczegółów.\n",
    "5. Projektowanie algorytmu – tworzenie krokowego planu działania.\n",
    "6. Testowanie i iteracja – sprawdzanie rozwiązania i wprowadzanie poprawek.\n",
    "7. Implementacja – realizacja rozwiązania w praktyce.\n",
    "8. Ewaluacja – ocena skuteczności i możliwość optymalizacji.\n"
   ]
  },
  {
   "cell_type": "markdown",
   "id": "155eeab9-0704-4312-b96e-5850c921f677",
   "metadata": {},
   "source": [
    "_____________________________________________________________________"
   ]
  },
  {
   "cell_type": "markdown",
   "id": "152e1d05-23d3-4a20-973a-81e5a343d436",
   "metadata": {},
   "source": [
    "## 2)  \tstosuje przy rozwiązywaniu problemów z różnych dziedzin algorytmy poznane w szkole podstawowej oraz algorytmy:"
   ]
  },
  {
   "cell_type": "markdown",
   "id": "6f7280bb-6dee-4dc6-a145-57cd3881b9d1",
   "metadata": {},
   "source": [
    "###    2.1. na liczbach:"
   ]
  },
  {
   "cell_type": "markdown",
   "id": "c6d80a74-3d33-49b6-862c-581f090fb636",
   "metadata": {},
   "source": [
    "#### 2.1.1. BADANIE PIERWSZOŚCI LICZB"
   ]
  },
  {
   "cell_type": "markdown",
   "id": "5e9c076b-a66b-4c37-9b2c-e2c19213358d",
   "metadata": {
    "jp-MarkdownHeadingCollapsed": true
   },
   "source": [
    "##### Napisz funkcje która sprawdza czy liczba jest pierwsza. Znajdź w liście liczby pierwsze."
   ]
  },
  {
   "cell_type": "markdown",
   "id": "282b482f-b3f7-410c-9438-afecefa340c5",
   "metadata": {},
   "source": [
    "###### Pseudokod\n",
    "Funkcja padanie_pierwszosci(n):\n",
    "    czynniki = []\n",
    "    \n",
    "    # Dziel przez 2\n",
    "    dopóki n jest podzielne przez 2:\n",
    "        dodaj 2 do czynniki\n",
    "        podziel n przez 2\n",
    "    \n",
    "    # Dziel przez liczby nieparzyste\n",
    "    dzielnik = 3\n",
    "    dopóki dzielnik * dzielnik <= n:\n",
    "        dopóki n jest podzielne przez dzielnik:\n",
    "            dodaj dzielnik do czynniki\n",
    "            podziel n przez dzielnik\n",
    "        dzielnik += 2\n",
    "    \n",
    "    # Jeśli n jest liczbą pierwszą większą niż 2\n",
    "    jeśli n > 2:\n",
    "        dodaj n do czynniki\n",
    "    \n",
    "    zwróć czynniki\n"
   ]
  },
  {
   "cell_type": "code",
   "execution_count": 23,
   "id": "2736207c-1bbe-4cca-8fc8-ea8f7ec91080",
   "metadata": {},
   "outputs": [
    {
     "name": "stdout",
     "output_type": "stream",
     "text": [
      "Rozkład liczby 56 na liczby pierwsze: [2, 2, 2, 7]\n"
     ]
    }
   ],
   "source": [
    "def padanie_pierwszosci(n):\n",
    "    # Lista do przechowywania czynników pierwszych\n",
    "    czynniki = []\n",
    "    # Najpierw dzielimy przez 2 (najmniejsza liczba pierwsza)\n",
    "    while n % 2 == 0:\n",
    "        czynniki.append(2)\n",
    "        n //= 2\n",
    "    # Dzielimy przez kolejne liczby nieparzyste, poczynając od 3\n",
    "    dzielnik = 3\n",
    "    while dzielnik * dzielnik <= n:  # Sprawdzamy do pierwiastka z n\n",
    "        while n % dzielnik == 0:\n",
    "            czynniki.append(dzielnik)\n",
    "            n //= dzielnik\n",
    "        dzielnik += 2  # Sprawdzamy tylko liczby nieparzyste\n",
    "    # Jeśli n jest liczbą pierwszą większą niż 2\n",
    "    if n > 2:\n",
    "        czynniki.append(n)\n",
    "    \n",
    "    return czynniki\n",
    "\n",
    "# Wywołanie\n",
    "liczba = 56\n",
    "print(f\"Rozkład liczby {liczba} na liczby pierwsze: {padanie_pierwszosci(liczba)}\")\n"
   ]
  },
  {
   "cell_type": "markdown",
   "id": "7356d722-fee4-43cb-b0c8-ebadc53a8c67",
   "metadata": {},
   "source": [
    "#### Pseudokod\n"
   ]
  },
  {
   "cell_type": "markdown",
   "id": "acc149d6-5bbf-489a-8e6e-40bd048ab29e",
   "metadata": {},
   "source": []
  },
  {
   "cell_type": "markdown",
   "id": "86c0f091-d485-4305-93ec-0a8ba1130aa9",
   "metadata": {},
   "source": [
    "#### Kod"
   ]
  },
  {
   "cell_type": "code",
   "execution_count": null,
   "id": "daf115ba-e67e-439e-94a1-b68500a06d04",
   "metadata": {},
   "outputs": [],
   "source": []
  },
  {
   "cell_type": "markdown",
   "id": "f1f51bf0-0872-4b9b-a496-10ad48d5672e",
   "metadata": {},
   "source": [
    "____________________________________________"
   ]
  },
  {
   "cell_type": "markdown",
   "id": "674d0062-e6c5-49d7-aa1b-7ca3b2c2efc4",
   "metadata": {},
   "source": [
    "_______________________________________________________________"
   ]
  },
  {
   "cell_type": "markdown",
   "id": "79de8f03-960a-469f-b46d-ad12cbb59452",
   "metadata": {},
   "source": [
    "#### 2.1.1. ZMIANY REPREZENTACJI LICZB MIĘDZY POZYCYJNYMI SYSTEMAMI LICZBOWYMI"
   ]
  },
  {
   "cell_type": "markdown",
   "id": "2afd902a-8b76-48e4-9356-795f49a23901",
   "metadata": {},
   "source": [
    "##### System pozycyjny\n",
    "Sposób zapisu liczb, w którym wartość cyfry zależy od jej miejsca w liczbie i od podstawy systemu, np. 10 w systemie dziesiętnym, 2 w dwójkowym. Każda cyfra mnoży się przez odpowiednią potęgę podstawy, a wyniki się sumuje. Dzięki temu można łatwo zapisywać i obliczać liczby.\n",
    "\n",
    "##### Przykłady: \n",
    "\n",
    "###### Liczba 345 w systmie dziesiętnym:\n",
    "\n",
    "3 * 10^2 + 4 * 10^1 + 5* 10^0 = \n",
    "\n",
    "300   +   40   +    5    = 345\n",
    "\n",
    "czyli:\n",
    "345\n",
    "\n",
    "###### Liczba 345 w systmie dwójkowym:\n",
    "\n",
    "1* 2^8 + 0* 2^7 + 1* 2^6 + 1* 2^5 + 0* 2^4 + 0* 2^3 + 0* 2^2 + 1* 2^1 + 1*2 ^0 =\n",
    "\n",
    "256 +    0    +   64   +  32  +   0   +  0    +   0   +   2   +   1    =345 \n",
    "\n",
    "czyli: \n",
    "101100011\n",
    "\n",
    "##### Dlaczego uwielbiamy uczenia się systemów pozycyjnych? :)\n",
    "###### Ponieważ będzie nam potrzebna do:\n",
    "###### 1. Komputery operują na liczbach binarnych czyli liczbach zapisanych w systemie dwójkowym!\n",
    "###### 2. Przydatna do szyfrowania i rytmetki modularnej\n",
    "###### 3. Kolory RGB są reprezentowane przez system szesnastkowy\n",
    "###### 4. Operacje bitowe i różne systemy liczbowe są używane w optymalizacji silników gier i zarządzaniu pamięcią\n",
    "###### 5. W przetwarzaniu obrazów liczby binarne i szesnastkowe są używane do manipulacji danymi pikseli i shaderami graficznymi\n",
    "###### 6. Konwersja między systemami jest niezbędna by zrozumieć obrazy i sygnały zapisane w binarnych plikach\n",
    "###### 8. Niezbędne w gałęzi zajmującą się sieciami komputoreowymi (Adresowanie, routing, protokół HTTP/2 i HTTP/3)\n",
    "###### 9. W uczeniu maszynowym dane binarne są wykorzystywane w przetwarzaniu cech, a systemy liczbowe w kodowaniu danych\n"
   ]
  },
  {
   "cell_type": "markdown",
   "id": "4e8bd0ee-3180-4099-9451-8d3460ad7b42",
   "metadata": {},
   "source": [
    "_____________________________________________"
   ]
  },
  {
   "cell_type": "markdown",
   "id": "eb72a401-428e-4d9d-86cd-b99de18c93ca",
   "metadata": {},
   "source": [
    "##### Przykład: spróbuj zamienić liczby na kartce\n",
    "\n",
    "\n"
   ]
  },
  {
   "cell_type": "markdown",
   "id": "1c3a0ca2-bd02-4040-b9d1-bbca52c76afa",
   "metadata": {},
   "source": [
    "___________________________________"
   ]
  },
  {
   "cell_type": "markdown",
   "id": "be4522cd-b056-4567-ada9-d1d0620b99db",
   "metadata": {
    "jp-MarkdownHeadingCollapsed": true
   },
   "source": [
    "##### Napisz funkcje która zamienia liczby z systemu dwójkowy na dzięsietny. \n",
    "\n",
    "##### (Podpowiedź: jeśli czujesz się na siłach przejdź od razu z systemu a na system b i wywołaj funkcje dla a= 2 i na b=10)"
   ]
  },
  {
   "cell_type": "markdown",
   "id": "a4b58aee-5411-4bdb-84f2-de36273e2a2f",
   "metadata": {},
   "source": [
    "###### Pseudokod\n",
    "1. Pobierz liczbę w systemie dwójkowym (jako ciąg znaków).\n",
    "2. Zainicjuj zmienną wynik na 0.\n",
    "3. Przeiteruj przez każdy bit liczby (od prawej do lewej).\n",
    "4. Pomnóż bit przez 2^(pozycja) i dodaj wynik\n",
    "5. Zwróć wynik."
   ]
  },
  {
   "cell_type": "code",
   "execution_count": 6,
   "id": "51eaf774-36f9-4229-932f-bbaaf4792990",
   "metadata": {},
   "outputs": [
    {
     "name": "stdout",
     "output_type": "stream",
     "text": [
      "10\n"
     ]
    }
   ],
   "source": [
    "def binarna_na_dziesietna(liczba_binarna):\n",
    "    # Zainicjuj wynik\n",
    "    wynik = 0\n",
    "    # Iterujemy po każdej cyfrze binarnej (od końca)\n",
    "    for i, bit in enumerate(reversed(liczba_binarna)):\n",
    "        # Dodaj wartość bitu pomnożoną przez odpowiednią potęgę 2\n",
    "        wynik += int(bit) * (2 ** i)\n",
    "    return wynik\n",
    "\n",
    "\n",
    "# Wywołanie\n",
    "print(binarna_na_dziesietna(\"1010\"))  # Wynik: 10\n"
   ]
  },
  {
   "cell_type": "markdown",
   "id": "374b9069-bf4f-4e5f-835b-57925cc2f528",
   "metadata": {},
   "source": [
    "##### Pseudokod"
   ]
  },
  {
   "cell_type": "markdown",
   "id": "6f4798ac-1ae6-4b05-bfd0-589c8cf3a8d0",
   "metadata": {},
   "source": []
  },
  {
   "cell_type": "markdown",
   "id": "5ccda66d-d9f2-4662-8039-728e3f1975f7",
   "metadata": {},
   "source": [
    "##### Kod"
   ]
  },
  {
   "cell_type": "code",
   "execution_count": null,
   "id": "c1387747-6e89-47ac-bf67-6fec480a42f2",
   "metadata": {},
   "outputs": [],
   "source": []
  },
  {
   "cell_type": "markdown",
   "id": "544268b1-5c4c-46d6-81f7-e9140bb4fc2c",
   "metadata": {},
   "source": [
    "___________________________________"
   ]
  },
  {
   "cell_type": "markdown",
   "id": "e5f1a308-3314-4ac7-95b6-20fc6a2bd218",
   "metadata": {
    "jp-MarkdownHeadingCollapsed": true
   },
   "source": [
    "##### Napisz funkcje która zamienia liczby z systemu dziesiętnego na dwójkowy:"
   ]
  },
  {
   "cell_type": "markdown",
   "id": "12d812e3-8828-4292-90a4-84dbef346d78",
   "metadata": {},
   "source": [
    "###### Pseudokod\n",
    "1. Pobierz liczbę w systemie dziesiętnym.\n",
    "2. Dopóki liczba jest większa od 0:\n",
    "   \n",
    "    2.1. Podziel liczbę przez 2 i zapisz resztę.\n",
    "   \n",
    "    2.2. Przypisz wynik całkowity do liczby.\n",
    "   \n",
    "    2.3. Dodaj resztę na początek ciągu wynikowego.\n",
    "   \n",
    "3. Zwróć wynik."
   ]
  },
  {
   "cell_type": "code",
   "execution_count": null,
   "id": "9e7ac614-f009-4dd7-b841-32982be6bd93",
   "metadata": {},
   "outputs": [],
   "source": [
    "def dziesietna_na_binarna(liczba_dziesietna):\n",
    "    if liczba_dziesietna == 0:\n",
    "        return \"0\"\n",
    "    wynik = \"\"\n",
    "    while liczba_dziesietna > 0:\n",
    "        # Oblicz resztę z dzielenia przez 2\n",
    "        reszta = liczba_dziesietna % 2\n",
    "        # Dodaj resztę na początek wyniku\n",
    "        wynik = str(reszta) + wynik\n",
    "        # Podziel liczbowo przez 2\n",
    "        liczba_dziesietna = liczba_dziesietna // 2\n",
    "    return wynik\n",
    "\n",
    "\n",
    "# Wywołanie\n",
    "print(dziesietna_na_binarna(10))  # Wynik: \"1010\"\n"
   ]
  },
  {
   "cell_type": "markdown",
   "id": "d0eb57fe-19ad-4fd1-86b5-ea6446aa5c58",
   "metadata": {},
   "source": [
    "##### Pseudokod"
   ]
  },
  {
   "cell_type": "markdown",
   "id": "8bfd27bd-613d-4155-8e9a-749d2bc006d3",
   "metadata": {},
   "source": []
  },
  {
   "cell_type": "markdown",
   "id": "bf3df787-8481-4a48-87b4-a7124a85a2e7",
   "metadata": {},
   "source": [
    "##### Kod"
   ]
  },
  {
   "cell_type": "code",
   "execution_count": null,
   "id": "c6ab48f9-6738-45db-9cbb-d79d8a6608e2",
   "metadata": {},
   "outputs": [],
   "source": []
  },
  {
   "cell_type": "markdown",
   "id": "ee263a08-e3b7-4134-80d2-ecf868dac315",
   "metadata": {},
   "source": [
    "____________________________________________________________________"
   ]
  },
  {
   "cell_type": "markdown",
   "id": "68f3e74e-a939-4026-b21f-3d58d7efc4d2",
   "metadata": {
    "jp-MarkdownHeadingCollapsed": true
   },
   "source": [
    "##### Napisz funckje która zamienia liczby z systemu a na system b:"
   ]
  },
  {
   "cell_type": "markdown",
   "id": "e2853ebc-2955-486a-bbbd-8c8243d7f8c6",
   "metadata": {},
   "source": [
    "###### Pseudokod\n",
    "1. Pobierz liczbę w systemie a oraz docelowy system b.\n",
    "2. Zamień liczbę z systemu a na liczbę dziesiętną (iteracyjnie przelicz wartość):\n",
    "\n",
    "   2.1. Przeiteruj przez cyfry liczby od lewej do prawej.\n",
    "\n",
    "   2.2. Zaktualizuj wynik jako wynik = wynik × a + cyfra\n",
    "\n",
    "3. Zamień liczbę dziesiętną na system b:\n",
    "\n",
    "   3.1. Dopóki liczba > 0:\n",
    "   \n",
    "        3.1.1. Zapisuj resztę z dzielenia przez b.\n",
    "        3.1.2. Aktualizuj liczbę jako część całkowitą z dzielenia przez b.\n",
    "\n",
    "\n",
    "\n",
    "\n",
    "\n",
    "5. Zwróć wynik.\n"
   ]
  },
  {
   "cell_type": "code",
   "execution_count": 20,
   "id": "7bea5ee0-c8a6-4666-8e44-f0247d0bf88b",
   "metadata": {},
   "outputs": [
    {
     "name": "stdout",
     "output_type": "stream",
     "text": [
      "10\n",
      "1010\n",
      "102\n"
     ]
    }
   ],
   "source": [
    "def zamien_systemy(liczba, system_a, system_b):\n",
    "    # Zamiana liczby z systemu a na dziesiętny\n",
    "    liczba_dziesietna = 0\n",
    "    for cyfra in liczba:\n",
    "        liczba_dziesietna = liczba_dziesietna * system_a + int(cyfra)\n",
    "    \n",
    "    # Zamiana liczby dziesiętnej na system b\n",
    "    if liczba_dziesietna == 0:\n",
    "        return \"0\"\n",
    "    \n",
    "    wynik = \"\"\n",
    "    while liczba_dziesietna > 0:\n",
    "        reszta = liczba_dziesietna % system_b\n",
    "        wynik = str(reszta) + wynik\n",
    "        liczba_dziesietna //= system_b\n",
    "    \n",
    "    return wynik\n",
    "\n",
    "# Wywołanie\n",
    "print(zamien_systemy(\"1010\", 2, 10))  # Wynik: \"10\" (z dwójkowego na dziesiętny)\n",
    "print(zamien_systemy(\"10\", 10, 2))    # Wynik: \"1010\" (z dziesiętnego na dwójkowy)\n",
    "print(zamien_systemy(\"123\", 4, 5))    # Wynik: \"13\" (z czwórkowego na piątkowy)\n"
   ]
  },
  {
   "cell_type": "markdown",
   "id": "6b9c3968-ddea-4438-9cfa-d2dce86ce4b3",
   "metadata": {},
   "source": [
    "###### Pseudokod"
   ]
  },
  {
   "cell_type": "markdown",
   "id": "7c083b6f-ca09-49dc-aa8c-8036c1ca7001",
   "metadata": {},
   "source": []
  },
  {
   "cell_type": "markdown",
   "id": "abd48636-3450-4939-9f7f-ff958ba84fe2",
   "metadata": {},
   "source": [
    "##### Kod"
   ]
  },
  {
   "cell_type": "code",
   "execution_count": null,
   "id": "d9790c64-54e9-4ff7-8ffd-b85d95d27faf",
   "metadata": {},
   "outputs": [],
   "source": []
  },
  {
   "cell_type": "markdown",
   "id": "f4e6a259-e2bb-4358-9f6b-f27f9afa94f6",
   "metadata": {},
   "source": [
    "______________________________"
   ]
  },
  {
   "cell_type": "code",
   "execution_count": null,
   "id": "1f6b3f57-4092-4214-a5c6-1ee052675bae",
   "metadata": {},
   "outputs": [],
   "source": []
  }
 ],
 "metadata": {
  "kernelspec": {
   "display_name": "Python 3 (ipykernel)",
   "language": "python",
   "name": "python3"
  },
  "language_info": {
   "codemirror_mode": {
    "name": "ipython",
    "version": 3
   },
   "file_extension": ".py",
   "mimetype": "text/x-python",
   "name": "python",
   "nbconvert_exporter": "python",
   "pygments_lexer": "ipython3",
   "version": "3.12.7"
  }
 },
 "nbformat": 4,
 "nbformat_minor": 5
}
