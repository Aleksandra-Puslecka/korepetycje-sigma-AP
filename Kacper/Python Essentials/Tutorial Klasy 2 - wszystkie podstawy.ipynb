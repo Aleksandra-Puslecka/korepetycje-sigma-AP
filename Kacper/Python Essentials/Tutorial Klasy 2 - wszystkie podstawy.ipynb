{
 "cells": [
  {
   "cell_type": "markdown",
   "id": "45429d78-55dd-45d4-a85f-cc848d9c8441",
   "metadata": {},
   "source": [
    "# Tutorial Klasy :)"
   ]
  },
  {
   "cell_type": "markdown",
   "id": "093eef63-5183-4527-896b-af0f3199823f",
   "metadata": {},
   "source": [
    "Korzystasz już z klas w pythonie"
   ]
  },
  {
   "cell_type": "code",
   "execution_count": 7,
   "id": "41ca3fd5-57c7-4e5b-bdf5-8082d4b8ed89",
   "metadata": {},
   "outputs": [
    {
     "name": "stdout",
     "output_type": "stream",
     "text": [
      "<class '__main__.Moja_Klasa'>\n",
      "<class 'str'>\n",
      "<class 'int'>\n"
     ]
    }
   ],
   "source": [
    "class Moja_Klasa:\n",
    "    pass\n",
    "\n",
    "przykładowy_item = Moja_Klasa()\n",
    "przykładowy_str = str(\"napis\")\n",
    "przykładowy_int = int(4)\n",
    "\n",
    "print(type(przykładowy_item))\n",
    "print(type(przykładowy_str))\n",
    "print(type(przykładowy_int))"
   ]
  },
  {
   "cell_type": "markdown",
   "id": "585932a9-05b2-414f-8f51-820e94e794a7",
   "metadata": {},
   "source": [
    "Stwórzmy atrybuty do naszej klasy"
   ]
  },
  {
   "cell_type": "code",
   "execution_count": 44,
   "id": "0f126e1d-dd69-48c0-9037-5759b6a4bcd4",
   "metadata": {},
   "outputs": [
    {
     "name": "stdout",
     "output_type": "stream",
     "text": [
      "<class '__main__.Moja_Klasa'>\n",
      "<class 'str'>\n",
      "<class 'int'>\n",
      "<class 'int'>\n"
     ]
    }
   ],
   "source": [
    "class Moja_Klasa:\n",
    "    pass\n",
    "\n",
    "item1 = Moja_Klasa()\n",
    "item1.nazwa = \"Podręczna lewatywa\"\n",
    "item1.cena = 30\n",
    "item1.ilość = 10000\n",
    "\n",
    "print(type(item1))\n",
    "print(type(item1.nazwa))\n",
    "print(type(item1.cena))\n",
    "print(type(item1.ilość))"
   ]
  },
  {
   "cell_type": "markdown",
   "id": "40f57586-a50f-4e28-b594-7d69c75c5617",
   "metadata": {},
   "source": [
    "Jak możemy zaprogramować metody które działaj na naszej klasie?"
   ]
  },
  {
   "cell_type": "code",
   "execution_count": 19,
   "id": "62d0bb9d-2e89-45c7-852b-15ce607b754d",
   "metadata": {},
   "outputs": [
    {
     "name": "stdout",
     "output_type": "stream",
     "text": [
      "NAPIS\n"
     ]
    }
   ],
   "source": [
    "# metoda która działa na kasie str\n",
    "print(przykładowy_str.upper())"
   ]
  },
  {
   "cell_type": "code",
   "execution_count": 48,
   "id": "3a9d3bf3-96a4-4810-bf61-ac1773ecfa38",
   "metadata": {},
   "outputs": [
    {
     "ename": "TypeError",
     "evalue": "Moja_Klasa.suma() takes 0 positional arguments but 1 was given",
     "output_type": "error",
     "traceback": [
      "\u001b[1;31m---------------------------------------------------------------------------\u001b[0m",
      "\u001b[1;31mTypeError\u001b[0m                                 Traceback (most recent call last)",
      "Cell \u001b[1;32mIn[48], line 8\u001b[0m\n\u001b[0;32m      6\u001b[0m         \u001b[38;5;28;01mpass\u001b[39;00m\n\u001b[0;32m      7\u001b[0m item1 \u001b[38;5;241m=\u001b[39m Moja_Klasa()\n\u001b[1;32m----> 8\u001b[0m item1\u001b[38;5;241m.\u001b[39msuma()\n",
      "\u001b[1;31mTypeError\u001b[0m: Moja_Klasa.suma() takes 0 positional arguments but 1 was given"
     ]
    }
   ],
   "source": [
    "# zaprogramujmy metody które działaj dla naszej klasy\n",
    "# metody -> funkcje w klasie\n",
    "# funkcje -> funkcje poza klasa\n",
    "\n",
    "\n",
    "class Moja_Klasa:\n",
    "    # Czego brakuje tej metodzie?\n",
    "    def suma():\n",
    "        pass\n",
    "\n",
    "\n",
    "item1 = Moja_Klasa()\n",
    "item1.suma()"
   ]
  },
  {
   "cell_type": "code",
   "execution_count": 56,
   "id": "bf2226db-17f2-4fff-8899-b4dcdecf9929",
   "metadata": {},
   "outputs": [],
   "source": [
    "class Moja_Klasa:\n",
    "    #musimy dodać argument self, innaczej wyskoczy nam error\n",
    "    def suma(self):\n",
    "        pass\n",
    "\n",
    "\n",
    "item1 = Moja_Klasa()\n",
    "item1.suma()"
   ]
  },
  {
   "cell_type": "markdown",
   "id": "b366e1da-11da-482b-9c0a-803e125f8385",
   "metadata": {},
   "source": [
    "##### Zadanie\n",
    "Zdefiniuj klase, napisz dla niej metode do obliczania łacznej ceny za produkty\n",
    "\n",
    "\n",
    "Przetestuj dla dwóch itemów"
   ]
  },
  {
   "cell_type": "code",
   "execution_count": 15,
   "id": "ed224d0b-d7ab-45f3-a121-1f84cc7cbc33",
   "metadata": {},
   "outputs": [
    {
     "name": "stdout",
     "output_type": "stream",
     "text": [
      "90\n",
      "45\n"
     ]
    }
   ],
   "source": [
    "class Moja_Klasa:\n",
    "    def suma(self, x, y):\n",
    "        return x*y\n",
    "\n",
    "\n",
    "item1 = Moja_Klasa()\n",
    "item1.nazwa = \"Podręczna lewatywa\"\n",
    "item1.cena = 30\n",
    "item1.ilość = 3\n",
    "s1 = item1.suma(item1.cena, item1.ilość)\n",
    "print(s1)\n",
    "\n",
    "item2 = Moja_Klasa()\n",
    "item2.nazwa = \"Szampon 36 w 1\"\n",
    "item2.cena = 45\n",
    "item2.ilość = 1\n",
    "s2 = item2.suma(item2.cena, item2.ilość)\n",
    "print(s2)\n"
   ]
  },
  {
   "cell_type": "markdown",
   "id": "1c803753-31a8-402e-94d3-449ccbdf7eaf",
   "metadata": {},
   "source": [
    "Stwórzmy metodę __init__ \n",
    "\n",
    "Czyli konstruktor - specjalna metoda\n",
    "\n",
    "Konstruktory to te które zaczynaja się od dwóch podkreślników."
   ]
  },
  {
   "cell_type": "code",
   "execution_count": 16,
   "id": "4b7dc619-59ab-4ee7-b40c-0314e3fcf535",
   "metadata": {},
   "outputs": [
    {
     "name": "stdout",
     "output_type": "stream",
     "text": [
      "Bob\n"
     ]
    }
   ],
   "source": [
    "class Moja_Klasa:\n",
    "    #__init__(self, nazwa); jeśli chcemy od razu przy wyłowaniu dać nazwę \n",
    "    def __init__(self, nazwa):\n",
    "        #tworzymy atrybut nazwa klasy Moja_Klasa\n",
    "        self.nazwa = nazwa\n",
    "        #nawet jeśli nie wywołaliśmy __init__, deklarowanie zmiennej tej klasy uruchamia __init__\n",
    "        print(nazwa)\n",
    "        \n",
    "    def suma(self, x, y):\n",
    "        return x*y\n",
    "    \n",
    "\n",
    "\n",
    "x = Moja_Klasa(\"Bob\")"
   ]
  },
  {
   "cell_type": "code",
   "execution_count": 17,
   "id": "ee42c94a",
   "metadata": {},
   "outputs": [
    {
     "name": "stdout",
     "output_type": "stream",
     "text": [
      "Bob\n"
     ]
    }
   ],
   "source": [
    "#x przechowuje atrybut nazwa\n",
    "print(x.nazwa)"
   ]
  },
  {
   "cell_type": "markdown",
   "id": "10d86136",
   "metadata": {},
   "source": [
    "Zamiast printować nazwę stwórz metodę która po wyłwołaniu prntuje imię dla class Dog"
   ]
  },
  {
   "cell_type": "code",
   "execution_count": 18,
   "id": "8854aa30",
   "metadata": {},
   "outputs": [
    {
     "name": "stdout",
     "output_type": "stream",
     "text": [
      "Puszek\n",
      "Krzystof\n"
     ]
    }
   ],
   "source": [
    "class Dog:\n",
    "    def __init__ (self, imie):\n",
    "        self.name = imie\n",
    "\n",
    "    def bark(self):\n",
    "        print(\"Hau!\")\n",
    "\n",
    "    def get_name(self):\n",
    "        return self.name\n",
    "    \n",
    "\n",
    "\n",
    "d = Dog(\"Puszek\")\n",
    "print(d.get_name())\n",
    "d2 = Dog(\"Krzystof\")\n",
    "print(d2.get_name())"
   ]
  },
  {
   "cell_type": "markdown",
   "id": "805cdf1c",
   "metadata": {},
   "source": [
    "Dodaj do klasy Dog, wiek psa i napisz metodę po której można się dostać do jego wieku"
   ]
  },
  {
   "cell_type": "code",
   "execution_count": 19,
   "id": "5dadb9c4",
   "metadata": {},
   "outputs": [
    {
     "name": "stdout",
     "output_type": "stream",
     "text": [
      "Puszek\n",
      "1\n",
      "Krzysztof\n",
      "16\n"
     ]
    }
   ],
   "source": [
    "class Dog:\n",
    "    def __init__ (self, imie, wiek):\n",
    "        self.name = imie\n",
    "        self.age = wiek\n",
    "\n",
    "    def bark(self):\n",
    "        print(\"Hau!\")\n",
    "\n",
    "    def get_name(self):\n",
    "        return self.name\n",
    "    \n",
    "    def get_age(self):\n",
    "        return self.age\n",
    "    \n",
    "\n",
    "\n",
    "d = Dog(\"Puszek\", 1)\n",
    "print(d.get_name())\n",
    "print(d.get_age())\n",
    "d2 = Dog(\"Krzysztof\", 16)\n",
    "print(d2.get_name())\n",
    "print(d2.get_age())"
   ]
  },
  {
   "cell_type": "markdown",
   "id": "b50c1521",
   "metadata": {},
   "source": [
    "Możemy stworzyć metody w klasie które modyfikują atrybuty. Napisz metodę która może updateować wiek psa"
   ]
  },
  {
   "cell_type": "code",
   "execution_count": 20,
   "id": "d3596ebb",
   "metadata": {},
   "outputs": [
    {
     "name": "stdout",
     "output_type": "stream",
     "text": [
      "2\n"
     ]
    }
   ],
   "source": [
    "class Dog:\n",
    "    def __init__ (self, imie, wiek):\n",
    "        self.name = imie\n",
    "        self.age = wiek\n",
    "\n",
    "    def bark(self):\n",
    "        print(\"Hau!\")\n",
    "\n",
    "    def get_name(self):\n",
    "        return self.name\n",
    "    \n",
    "    def get_age(self):\n",
    "        return self.age\n",
    "    \n",
    "    def change_age(self, nowy_wiek):\n",
    "        self.age = nowy_wiek \n",
    "    \n",
    "\n",
    "\n",
    "d = Dog(\"Puszek\", 1)\n",
    "d.change_age(2)\n",
    "print(d.get_age())"
   ]
  },
  {
   "cell_type": "markdown",
   "id": "e6865b9d",
   "metadata": {},
   "source": [
    "Klasy mają tą zalete że jak już raz napiszemy jedną klase. Możemy mieć nieskończenie wiele przypadków dla tej klasy. "
   ]
  },
  {
   "cell_type": "code",
   "execution_count": 21,
   "id": "28edeef4",
   "metadata": {},
   "outputs": [],
   "source": [
    "# Rzeczywiście dla jednego psa pisanie klasy zajmuje dużo więcej liniej\n",
    "dog1_name = \"Puszek\"\n",
    "dog1_age = 34 \n",
    "\n",
    "# Ale co jeśli chce mieć 300 psów?\n",
    "# Wtedy klasy są niezwykle pomocne\n",
    "# Zwykle tworzymy klasy dla obiektów które chcemy użyć dużo razy"
   ]
  },
  {
   "cell_type": "markdown",
   "id": "d8f00a93",
   "metadata": {},
   "source": [
    "____________________________________________________________________________________"
   ]
  },
  {
   "cell_type": "markdown",
   "id": "9244b36b",
   "metadata": {},
   "source": [
    "# Interakcje pomiędzy klasami"
   ]
  },
  {
   "cell_type": "code",
   "execution_count": 25,
   "id": "55133192",
   "metadata": {},
   "outputs": [
    {
     "name": "stdout",
     "output_type": "stream",
     "text": [
      "[<__main__.Student object at 0x0000020FA440C050>, <__main__.Student object at 0x0000020FA42D5950>]\n",
      "Kacper\n"
     ]
    }
   ],
   "source": [
    "class Student:\n",
    "    def __init__(self, name, age, grade):\n",
    "        self.name = name\n",
    "        self.age = age\n",
    "        self.grade = grade\n",
    "\n",
    "    def get_grade(self):\n",
    "        return self.grade\n",
    "    \n",
    "\n",
    "class Course:\n",
    "    def __init__(self, name, max_students):\n",
    "        self.name = name\n",
    "        self.max_students = max_students\n",
    "        # Można tworzyć atrybuty które nie są powiązane z argumentami które podaliśmy\n",
    "        self.students = []\n",
    "        self.is_active = False\n",
    "\n",
    "    # Stwórzmy metodę która będzie pozwalała na dodawanie studentów do listy w Course\n",
    "    #Student będzie instance(wersją) obiektu Student\n",
    "    def add_student(self, student):\n",
    "        if len(self.students) < self.max_students:\n",
    "            self.students.append(student)\n",
    "            return True\n",
    "        return False\n",
    "    \n",
    "\n",
    "#tworzymy studentów\n",
    "s1 = Student(\"Kacper\", 14, 5)\n",
    "s2 = Student(\"Ania\", 18, 3)\n",
    "s3 = Student(\"Kuba\", 14, 5)\n",
    "\n",
    "\n",
    "#tworzymy programowanie\n",
    "course1 = Course(\"Django\", 2)\n",
    "course1.add_student(s1)\n",
    "course1.add_student(s2)\n",
    "#kiedy wyprintujemy uczniów w kursie pojawiają nam się dwa obiekty uczniów\n",
    "print(course1.students)\n",
    "#Możemy się dostać do atrybutu imię dla piewszego obiektu studenta\n",
    "print(course1.students[0].name)\n",
    "\n",
    "\n",
    "        \n"
   ]
  },
  {
   "cell_type": "markdown",
   "id": "21077e7f",
   "metadata": {},
   "source": [
    "Dodajmy teraz metodę która liczy średnią z ocen uczniów w kursie"
   ]
  },
  {
   "cell_type": "code",
   "execution_count": 29,
   "id": "25730564",
   "metadata": {},
   "outputs": [
    {
     "name": "stdout",
     "output_type": "stream",
     "text": [
      "[<__main__.Student object at 0x0000020FA3CC6510>, <__main__.Student object at 0x0000020FA42D6AD0>]\n",
      "4.0\n"
     ]
    }
   ],
   "source": [
    "class Student:\n",
    "    def __init__(self, name, age, grade):\n",
    "        self.name = name\n",
    "        self.age = age\n",
    "        self.grade = grade\n",
    "\n",
    "    def get_grade(self):\n",
    "        return self.grade\n",
    "    \n",
    "\n",
    "class Course:\n",
    "    def __init__(self, name, max_students):\n",
    "        self.name = name\n",
    "        self.max_students = max_students\n",
    "        # Można tworzyć atrybuty które nie są powiązane z argumentami które podaliśmy\n",
    "        self.students = []\n",
    "        self.is_active = False\n",
    "\n",
    "    def add_student(self, student):\n",
    "        if len(self.students) < self.max_students:\n",
    "            self.students.append(student)\n",
    "            return True\n",
    "        return False\n",
    "    \n",
    "    def get_average_grade(self):\n",
    "        value = 0\n",
    "        for student in self.students:\n",
    "            value += student.get_grade()\n",
    "\n",
    "        return value/len(self.students)\n",
    "    \n",
    "\n",
    "#tworzymy studentów\n",
    "s1 = Student(\"Kacper\", 14, 5)\n",
    "s2 = Student(\"Ania\", 18, 3)\n",
    "s3 = Student(\"Kuba\", 14, 5)\n",
    "\n",
    "\n",
    "#tworzymy programowanie\n",
    "course1 = Course(\"Django\", 2)\n",
    "course1.add_student(s1)\n",
    "course1.add_student(s2)\n",
    "print(course1.students)\n",
    "print(course1.get_average_grade())\n",
    "\n",
    "\n",
    "        \n"
   ]
  },
  {
   "cell_type": "code",
   "execution_count": 31,
   "id": "87781ffc",
   "metadata": {},
   "outputs": [
    {
     "data": {
      "text/plain": [
       "False"
      ]
     },
     "execution_count": 31,
     "metadata": {},
     "output_type": "execute_result"
    }
   ],
   "source": [
    "# Sprawdź co się stanie jeśli spróbujesz dodać ucznia ponad limit\n",
    "\n",
    "course1.add_student(s3)"
   ]
  },
  {
   "cell_type": "markdown",
   "id": "8efe0526",
   "metadata": {},
   "source": [
    "_____________________________________________________________"
   ]
  },
  {
   "cell_type": "markdown",
   "id": "d2efff29",
   "metadata": {},
   "source": [
    "# Dziedziczenie"
   ]
  },
  {
   "cell_type": "code",
   "execution_count": null,
   "id": "badd10d4",
   "metadata": {},
   "outputs": [],
   "source": [
    "class Cat: \n",
    "    def __init__(self,name,age):\n",
    "        self.name = name\n",
    "        self.age = age\n",
    "    \n",
    "    def daj_głos(self):\n",
    "        print(\"Meow\")\n",
    "\n",
    "\n",
    "\n",
    "class Dog:\n",
    "    def __init__(self,name,age):\n",
    "        self.name = name\n",
    "        self.age = age\n",
    "\n",
    "    def daj_głos(self):\n",
    "        print(\"Hau\")\n",
    "\n",
    "\n",
    "\n",
    "# Tak jak widać te dwie klasy są bardzo podobne jedyne co ich rozróżnia że że metoda daj_głos() printuje co innego\n",
    "# Aby to skrócić\n",
    "\n"
   ]
  },
  {
   "cell_type": "code",
   "execution_count": null,
   "id": "faacffad",
   "metadata": {},
   "outputs": [],
   "source": [
    "# zostawmy w klasach tylko to co je wyróżnia\n",
    "\n",
    "class Cat: \n",
    "    def daj_głos(self):\n",
    "        print(\"Meow\")\n",
    "\n",
    "class Dog:\n",
    "    def daj_głos(self):\n",
    "        print(\"Hau\")"
   ]
  },
  {
   "cell_type": "code",
   "execution_count": 37,
   "id": "5ff9a4a5",
   "metadata": {},
   "outputs": [],
   "source": [
    "# zdefiniujmy upper-level class\n",
    "# klasa wyższa ma funkcjonalnością jaką chcemy żeby klasa Cat i klasa Dog miała\n",
    "\n",
    "# Klasa Pet jest ogólna \n",
    "class Pet:\n",
    "    def __init__(self,name,age):\n",
    "        self.name = name\n",
    "        self.age = age\n",
    "\n",
    "\n",
    "#Klasy Cat i Dog są specyficzne\n",
    "#Klady Cat i Dog dziedziczą po Pet\n",
    "class Cat(Pet): \n",
    "    def daj_głos(self):\n",
    "        print(\"Meow\")\n",
    "\n",
    "\n",
    "class Dog(Pet):\n",
    "    def daj_głos(self):\n",
    "        print(\"Hau\")\n"
   ]
  },
  {
   "cell_type": "markdown",
   "id": "b1a24829",
   "metadata": {},
   "source": [
    "Stworzenie klasy Pet nazywamy generalizacją eng.generalization"
   ]
  },
  {
   "cell_type": "markdown",
   "id": "1ebdc078",
   "metadata": {},
   "source": [
    "Jak działa dziedziczenie?"
   ]
  },
  {
   "cell_type": "code",
   "execution_count": 41,
   "id": "bc93da83",
   "metadata": {},
   "outputs": [
    {
     "name": "stdout",
     "output_type": "stream",
     "text": [
      "Jestem Pipi i mam 19 lat.\n",
      "Jestem Tomasz i mam 15 lat.\n",
      "Meow\n",
      "Jestem Ciapek i mam 3 lat.\n",
      "Hau\n"
     ]
    }
   ],
   "source": [
    "# Klasa Pet jest ogólna\n",
    "class Pet:\n",
    "    def __init__(self,name,age):\n",
    "        self.name = name\n",
    "        self.age = age\n",
    "\n",
    "    #metoda któa pokazuje mi dane dla obiektu\n",
    "    def show(self):\n",
    "        print(f\"Jestem {self.name} i mam {self.age} lat.\")\n",
    "\n",
    "\n",
    "#Klasy Cat i Dog są specyficzne\n",
    "#Klady Cat i Dog dziedziczą po Pet\n",
    "class Cat(Pet): \n",
    "    def daj_głos(self):\n",
    "        print(\"Meow\")\n",
    "\n",
    "\n",
    "class Dog(Pet):\n",
    "    def daj_głos(self):\n",
    "        print(\"Hau\")\n",
    "\n",
    "\n",
    "p = Pet(\"Pipi\", 19)\n",
    "p.show()\n",
    "\n",
    "c = Cat(\"Tomasz\", 15)\n",
    "c.show()\n",
    "c.daj_głos()\n",
    "\n",
    "d = Dog(\"Ciapek\", 3)\n",
    "d.show()\n",
    "d.daj_głos()"
   ]
  },
  {
   "cell_type": "code",
   "execution_count": 42,
   "id": "6b56275f",
   "metadata": {},
   "outputs": [
    {
     "name": "stdout",
     "output_type": "stream",
     "text": [
      "Jestem Pipi i mam 19 lat.\n",
      "Nie wiem co powinnienem powiedzieć\n",
      "Jestem Tomasz i mam 15 lat.\n",
      "Meow\n",
      "Jestem Ciapek i mam 3 lat.\n",
      "Hau\n"
     ]
    }
   ],
   "source": [
    "# Klasa Pet jest rodzicem\n",
    "class Pet:\n",
    "    def __init__(self,name,age):\n",
    "        self.name = name\n",
    "        self.age = age\n",
    "\n",
    "    def show(self):\n",
    "        print(f\"Jestem {self.name} i mam {self.age} lat.\")\n",
    "\n",
    "    # Dodajmy metodę w klasie parnetalnej\n",
    "    def daj_głos(self):\n",
    "        print(\"Nie wiem co powinnienem powiedzieć\")\n",
    "\n",
    "\n",
    "#Klasy Cat i Dog są dzieckiem nadpisują metody o tym samym imieniu\n",
    "#Klady Cat i Dog dziedziczą po Pet\n",
    "class Cat(Pet): \n",
    "    def daj_głos(self):\n",
    "        print(\"Meow\")\n",
    "\n",
    "\n",
    "class Dog(Pet):\n",
    "    def daj_głos(self):\n",
    "        print(\"Hau\")\n",
    "\n",
    "\n",
    "p = Pet(\"Pipi\", 19)\n",
    "p.show()\n",
    "p.daj_głos()\n",
    "\n",
    "c = Cat(\"Tomasz\", 15)\n",
    "c.show()\n",
    "c.daj_głos()\n",
    "\n",
    "d = Dog(\"Ciapek\", 3)\n",
    "d.show()\n",
    "d.daj_głos()"
   ]
  },
  {
   "cell_type": "markdown",
   "id": "14246a62",
   "metadata": {},
   "source": [
    "dodajmy klase ryba która nie ma metody daj głos wtedy będzie dziedziczyć daj głos po klasie Pet"
   ]
  },
  {
   "cell_type": "code",
   "execution_count": 44,
   "id": "65ef4365",
   "metadata": {},
   "outputs": [
    {
     "name": "stdout",
     "output_type": "stream",
     "text": [
      "Jestem Pipi i mam 19 lat.\n",
      "Nie wiem co powinnienem powiedzieć\n",
      "Jestem Tomasz i mam 15 lat.\n",
      "Meow\n",
      "Jestem Ciapek i mam 3 lat.\n",
      "Hau\n",
      "Jestem Sir. Robert Płetwalski i mam 0.5 lat.\n",
      "Nie wiem co powinnienem powiedzieć\n"
     ]
    }
   ],
   "source": [
    "# Klasa Pet jest rodzicem\n",
    "class Pet:\n",
    "    def __init__(self,name,age):\n",
    "        self.name = name\n",
    "        self.age = age\n",
    "\n",
    "    def show(self):\n",
    "        print(f\"Jestem {self.name} i mam {self.age} lat.\")\n",
    "\n",
    "    # Dodajmy metodę w klasie parnetalnej\n",
    "    def daj_głos(self):\n",
    "        print(\"Nie wiem co powinnienem powiedzieć\")\n",
    "\n",
    "\n",
    "#Klasy Cat i Dog są dzieckiem nadpisują metody o tym samym imieniu\n",
    "#Klady Cat i Dog i Fish dziedziczą po Pet\n",
    "class Cat(Pet): \n",
    "    def daj_głos(self):\n",
    "        print(\"Meow\")\n",
    "\n",
    "\n",
    "class Dog(Pet):\n",
    "    def daj_głos(self):\n",
    "        print(\"Hau\")\n",
    "\n",
    "\n",
    "\n",
    "class Fish(Pet):\n",
    "    pass\n",
    "\n",
    "\n",
    "p = Pet(\"Pipi\", 19)\n",
    "p.show()\n",
    "p.daj_głos()\n",
    "\n",
    "c = Cat(\"Tomasz\", 15)\n",
    "c.show()\n",
    "c.daj_głos()\n",
    "\n",
    "d = Dog(\"Ciapek\", 3)\n",
    "d.show()\n",
    "d.daj_głos()\n",
    "\n",
    "f = Fish(\"Sir. Robert Płetwalski\", 0.5)\n",
    "f.show()\n",
    "f.daj_głos()"
   ]
  },
  {
   "cell_type": "markdown",
   "id": "3b0ad54d",
   "metadata": {},
   "source": [
    "Co jeśli chce dodać kolor do kota wtedy oprócz dziedziczenia Pet miałby jeszcze argument koloru"
   ]
  },
  {
   "cell_type": "code",
   "execution_count": 45,
   "id": "68bee4ee",
   "metadata": {},
   "outputs": [
    {
     "name": "stdout",
     "output_type": "stream",
     "text": [
      "Jestem Tomasz, mam 15 lat i mam rudy kolor.\n",
      "Meow\n"
     ]
    }
   ],
   "source": [
    "# Klasa Pet jest rodzicem\n",
    "class Pet:\n",
    "    def __init__(self,name,age):\n",
    "        self.name = name\n",
    "        self.age = age\n",
    "\n",
    "    def show(self):\n",
    "        print(f\"Jestem {self.name} i mam {self.age} lat.\")\n",
    "\n",
    "    # Dodajmy metodę w klasie parnetalnej\n",
    "    def daj_głos(self):\n",
    "        print(\"Nie wiem co powinnienem powiedzieć\")\n",
    "\n",
    "\n",
    "class Cat(Pet): \n",
    "    def __init__(self, name, age, color):\n",
    "        self.color = color\n",
    "        # teraz jakoś musimy wywołać funkcje inicjalizacji z Pet\n",
    "        # super() - odowłaj się do super klasy czyli klasy z której dziedziczymy (Pet) \n",
    "        # .__init__ - odowłaj się do metody którą chcemy wywołać\n",
    "        # (name, age) - argumenty które chcemy przekazać\n",
    "        # NIE MUSIMY TERAZ DAWAĆ self\n",
    "        super().__init__(name,age)\n",
    "\n",
    "    def daj_głos(self):\n",
    "        print(\"Meow\")\n",
    "\n",
    "    # Nadpiszmy teraz metodę show żeby kot też mówił jaki ma kolor \n",
    "    def show(self):\n",
    "        print(f\"Jestem {self.name}, mam {self.age} lat i mam {self.color} kolor.\")\n",
    "\n",
    "\n",
    "c = Cat(\"Tomasz\", 15, \"rudy\")\n",
    "c.show()\n",
    "c.daj_głos()"
   ]
  },
  {
   "cell_type": "markdown",
   "id": "b68c0498",
   "metadata": {},
   "source": [
    "_____________________________________________________"
   ]
  },
  {
   "cell_type": "markdown",
   "id": "5df8f56a",
   "metadata": {},
   "source": [
    "## Atrybuty Klasy"
   ]
  },
  {
   "cell_type": "code",
   "execution_count": 51,
   "id": "6b3266b6",
   "metadata": {},
   "outputs": [
    {
     "name": "stdout",
     "output_type": "stream",
     "text": [
      "0\n",
      "0\n",
      "8\n"
     ]
    }
   ],
   "source": [
    "class Person:\n",
    "    #To jest atrybut klasy\n",
    "    #Mimo że nie używa self\n",
    "    #Ten atrybut jest dla każdego przypadku wywołania tej klasy taki sam\n",
    "    number_of_people = 0\n",
    "\n",
    "    def __init__(self,name):\n",
    "        self.name = name\n",
    "\n",
    "\n",
    "\n",
    "p1 = Person(\"Aleksander\")\n",
    "p2 = Person(\"Małgorzata\")\n",
    "\n",
    "print(p1.number_of_people)\n",
    "#Przez to że ta zmienna jest podana dla klasy a nie dla przypadku wywołania klasy\n",
    "#Mogę tą zmienną wywołać przez klase\n",
    "print(Person.number_of_people)\n",
    "\n",
    "#Możemy zmienić tą zmienną odwołując się do klasy\n",
    "Person.number_of_people = 8\n",
    "print(p2.number_of_people)"
   ]
  },
  {
   "cell_type": "code",
   "execution_count": 53,
   "id": "fadda455",
   "metadata": {},
   "outputs": [
    {
     "name": "stdout",
     "output_type": "stream",
     "text": [
      "0\n",
      "1\n",
      "2\n"
     ]
    }
   ],
   "source": [
    "class Person:\n",
    "    #To też jest atrybut klasy\n",
    "    #Mimo że nie używa self\n",
    "    #Ten atrybut jest dla każdego przypadku wywołania tej klasy taki sam\n",
    "    number_of_people = 0\n",
    "\n",
    "    def __init__(self,name):\n",
    "        self.name = name\n",
    "        Person.number_of_people +=1\n",
    "\n",
    "\n",
    "print(Person.number_of_people)\n",
    "p1 = Person(\"Aleksander\")\n",
    "print(Person.number_of_people)\n",
    "p2 = Person(\"Małgorzata\")\n",
    "print(Person.number_of_people)\n",
    "\n"
   ]
  },
  {
   "cell_type": "markdown",
   "id": "d0a39e79",
   "metadata": {},
   "source": [
    "## Metody Klasy"
   ]
  },
  {
   "cell_type": "code",
   "execution_count": 56,
   "id": "96a87428",
   "metadata": {},
   "outputs": [
    {
     "name": "stdout",
     "output_type": "stream",
     "text": [
      "2\n"
     ]
    }
   ],
   "source": [
    "class Person:\n",
    "    number_of_people = 0\n",
    "\n",
    "    def __init__(self,name):\n",
    "        self.name = name\n",
    "        Person.add_person()\n",
    "\n",
    "    #użyjemy decorator\n",
    "    @classmethod\n",
    "    #zamist self użyjemy cls\n",
    "    #dlatego że nie odwołują się do żadnego obiektu\n",
    "    #zamiast tego odwołują się do klasy\n",
    "    def number_of_people_(cls):\n",
    "        return cls.number_of_people()\n",
    "\n",
    "\n",
    "    @classmethod\n",
    "    def add_person(cls):\n",
    "        cls.number_of_people +=1\n",
    "\n",
    "\n",
    "p1 = Person(\"Aleksander\")\n",
    "p2 = Person(\"Małgorzata\")\n",
    "print(Person.number_of_people)\n",
    "\n",
    "\n",
    "\n"
   ]
  },
  {
   "cell_type": "markdown",
   "id": "7e36f145",
   "metadata": {},
   "source": [
    "## Static Classes (Metody statyczne)"
   ]
  },
  {
   "cell_type": "code",
   "execution_count": 63,
   "id": "e2e5cb07",
   "metadata": {},
   "outputs": [
    {
     "name": "stdout",
     "output_type": "stream",
     "text": [
      "10\n",
      "15\n",
      "run\n"
     ]
    }
   ],
   "source": [
    "class Math:\n",
    "    #jeśli chcemy używać nawet jeśli nie ma żadnych obiektów Math\n",
    "    #Funkcje statyczne nie zmieniają obiektów \n",
    "    @staticmethod\n",
    "    # dla metod statycznych nie musze dodawać nieczego w nawiasie ani self ani cls\n",
    "    #dlatego że funkcje satycznie nie mają dostępu do żadnej z tych rzeczy, nie mogą ich zmieniać\n",
    "    #czy można by zrobić po prostu funkcje globalną poza klasą? tak; ale używa się ich dla jasności kodu\n",
    "    def add5(x):\n",
    "        return x+5\n",
    "    \n",
    "    @staticmethod\n",
    "    def pr():\n",
    "        print(\"run\")\n",
    "\n",
    "\n",
    "    @staticmethod\n",
    "    def add10(x):\n",
    "        return x+10\n",
    "\n",
    "#Teraz żeby wywołać funkcje statyczną nie muszę tworzyć żadnego obiektu dla klasy jak wcześniej wystarczy że napisze:\n",
    "print(Math.add5(5))\n",
    "print(Math.add10(5))\n",
    "Math.pr()\n"
   ]
  },
  {
   "cell_type": "code",
   "execution_count": null,
   "id": "84dc727d",
   "metadata": {},
   "outputs": [],
   "source": []
  }
 ],
 "metadata": {
  "kernelspec": {
   "display_name": "Python 3",
   "language": "python",
   "name": "python3"
  },
  "language_info": {
   "codemirror_mode": {
    "name": "ipython",
    "version": 3
   },
   "file_extension": ".py",
   "mimetype": "text/x-python",
   "name": "python",
   "nbconvert_exporter": "python",
   "pygments_lexer": "ipython3",
   "version": "3.13.1"
  }
 },
 "nbformat": 4,
 "nbformat_minor": 5
}
