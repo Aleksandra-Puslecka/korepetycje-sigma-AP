{
 "cells": [
  {
   "cell_type": "markdown",
   "id": "45429d78-55dd-45d4-a85f-cc848d9c8441",
   "metadata": {},
   "source": [
    "# Tutorial Klasy :)"
   ]
  },
  {
   "cell_type": "markdown",
   "id": "093eef63-5183-4527-896b-af0f3199823f",
   "metadata": {},
   "source": [
    "Korzystasz już z klas w pythonie"
   ]
  },
  {
   "cell_type": "code",
   "execution_count": 7,
   "id": "41ca3fd5-57c7-4e5b-bdf5-8082d4b8ed89",
   "metadata": {},
   "outputs": [
    {
     "name": "stdout",
     "output_type": "stream",
     "text": [
      "<class '__main__.Moja_Klasa'>\n",
      "<class 'str'>\n",
      "<class 'int'>\n"
     ]
    }
   ],
   "source": [
    "class Moja_Klasa:\n",
    "    pass\n",
    "\n",
    "przykładowy_item = Moja_Klasa()\n",
    "przykładowy_str = str(\"napis\")\n",
    "przykładowy_int = int(4)\n",
    "\n",
    "print(type(przykładowy_item))\n",
    "print(type(przykładowy_str))\n",
    "print(type(przykładowy_int))"
   ]
  },
  {
   "cell_type": "markdown",
   "id": "585932a9-05b2-414f-8f51-820e94e794a7",
   "metadata": {},
   "source": [
    "Stwórzmy atrybuty do naszej klasy"
   ]
  },
  {
   "cell_type": "code",
   "execution_count": 44,
   "id": "0f126e1d-dd69-48c0-9037-5759b6a4bcd4",
   "metadata": {},
   "outputs": [
    {
     "name": "stdout",
     "output_type": "stream",
     "text": [
      "<class '__main__.Moja_Klasa'>\n",
      "<class 'str'>\n",
      "<class 'int'>\n",
      "<class 'int'>\n"
     ]
    }
   ],
   "source": [
    "class Moja_Klasa:\n",
    "    pass\n",
    "\n",
    "item1 = Moja_Klasa()\n",
    "item1.nazwa = \"Podręczna lewatywa\"\n",
    "item1.cena = 30\n",
    "item1.ilość = 10000\n",
    "\n",
    "print(type(item1))\n",
    "print(type(item1.nazwa))\n",
    "print(type(item1.cena))\n",
    "print(type(item1.ilość))"
   ]
  },
  {
   "cell_type": "markdown",
   "id": "40f57586-a50f-4e28-b594-7d69c75c5617",
   "metadata": {},
   "source": [
    "Jak możemy zaprogramować metody które działaj na naszej klasie?"
   ]
  },
  {
   "cell_type": "code",
   "execution_count": 19,
   "id": "62d0bb9d-2e89-45c7-852b-15ce607b754d",
   "metadata": {},
   "outputs": [
    {
     "name": "stdout",
     "output_type": "stream",
     "text": [
      "NAPIS\n"
     ]
    }
   ],
   "source": [
    "# metoda która działa na kasie str\n",
    "print(przykładowy_str.upper())"
   ]
  },
  {
   "cell_type": "code",
   "execution_count": 48,
   "id": "3a9d3bf3-96a4-4810-bf61-ac1773ecfa38",
   "metadata": {},
   "outputs": [
    {
     "ename": "TypeError",
     "evalue": "Moja_Klasa.suma() takes 0 positional arguments but 1 was given",
     "output_type": "error",
     "traceback": [
      "\u001b[1;31m---------------------------------------------------------------------------\u001b[0m",
      "\u001b[1;31mTypeError\u001b[0m                                 Traceback (most recent call last)",
      "Cell \u001b[1;32mIn[48], line 8\u001b[0m\n\u001b[0;32m      6\u001b[0m         \u001b[38;5;28;01mpass\u001b[39;00m\n\u001b[0;32m      7\u001b[0m item1 \u001b[38;5;241m=\u001b[39m Moja_Klasa()\n\u001b[1;32m----> 8\u001b[0m item1\u001b[38;5;241m.\u001b[39msuma()\n",
      "\u001b[1;31mTypeError\u001b[0m: Moja_Klasa.suma() takes 0 positional arguments but 1 was given"
     ]
    }
   ],
   "source": [
    "# zaprogramujmy metody które działaj dla naszej klasy\n",
    "# metody -> funkcje w klasie\n",
    "# funkcje -> funkcje poza klasa\n",
    "class Moja_Klasa:\n",
    "    def suma():\n",
    "        pass\n",
    "\n",
    "\n",
    "item1 = Moja_Klasa()\n",
    "item1.suma()"
   ]
  },
  {
   "cell_type": "code",
   "execution_count": 56,
   "id": "bf2226db-17f2-4fff-8899-b4dcdecf9929",
   "metadata": {},
   "outputs": [],
   "source": [
    "class Moja_Klasa:\n",
    "    def suma(self):\n",
    "        pass\n",
    "\n",
    "\n",
    "item1 = Moja_Klasa()\n",
    "item1.suma()"
   ]
  },
  {
   "cell_type": "markdown",
   "id": "b366e1da-11da-482b-9c0a-803e125f8385",
   "metadata": {},
   "source": [
    "##### Zadanie\n",
    "Zdefiniuj klase, napisz dla niej metode do obliczania łacznej ceny za produkty\n",
    "\n",
    "\n",
    "Przetestuj dla dwóch itemów"
   ]
  },
  {
   "cell_type": "code",
   "execution_count": 73,
   "id": "ed224d0b-d7ab-45f3-a121-1f84cc7cbc33",
   "metadata": {},
   "outputs": [
    {
     "name": "stdout",
     "output_type": "stream",
     "text": [
      "300000\n",
      "405\n"
     ]
    }
   ],
   "source": [
    "class Moja_Klasa:\n",
    "    def suma(self, x, y):\n",
    "        return x*y\n",
    "\n",
    "\n",
    "item1 = Moja_Klasa()\n",
    "item1.nazwa = \"Podręczna lewatywa\"\n",
    "item1.cena = 30\n",
    "item1.ilość = 3\n",
    "s1 = item1.suma(item1.cena, item1.ilość)\n",
    "print(s1)\n",
    "\n",
    "item2 = Moja_Klasa()\n",
    "item2.nazwa = \"Szampon 36 w 1\"\n",
    "item2.cena = 45\n",
    "item2.ilość = 1\n",
    "s2 = item2.suma(item2.cena, item2.ilość)\n",
    "print(s2)\n"
   ]
  },
  {
   "cell_type": "code",
   "execution_count": null,
   "id": "a45149af-53b5-45cb-ba80-5ddcbd503fd6",
   "metadata": {},
   "outputs": [],
   "source": []
  },
  {
   "cell_type": "markdown",
   "id": "1c803753-31a8-402e-94d3-449ccbdf7eaf",
   "metadata": {},
   "source": [
    "Stwórzmy metodę __init__ \n",
    "\n",
    "Czyli konstruktor - specjalna metoda\n",
    "\n",
    "Magiczne metody to te które zaczynaja się od dwóch podkreślników."
   ]
  },
  {
   "cell_type": "code",
   "execution_count": null,
   "id": "4b7dc619-59ab-4ee7-b40c-0314e3fcf535",
   "metadata": {},
   "outputs": [],
   "source": [
    "class Moja_Klasa:\n",
    "    def __init__(self):\n",
    "\n",
    "        \n",
    "    def suma(self, x, y):\n",
    "        return x*y"
   ]
  }
 ],
 "metadata": {
  "kernelspec": {
   "display_name": "Python 3 (ipykernel)",
   "language": "python",
   "name": "python3"
  },
  "language_info": {
   "codemirror_mode": {
    "name": "ipython",
    "version": 3
   },
   "file_extension": ".py",
   "mimetype": "text/x-python",
   "name": "python",
   "nbconvert_exporter": "python",
   "pygments_lexer": "ipython3",
   "version": "3.12.7"
  }
 },
 "nbformat": 4,
 "nbformat_minor": 5
}
