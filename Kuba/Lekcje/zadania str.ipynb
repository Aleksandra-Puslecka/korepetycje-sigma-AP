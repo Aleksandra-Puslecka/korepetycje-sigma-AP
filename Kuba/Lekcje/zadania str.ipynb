{
 "cells": [
  {
   "cell_type": "code",
   "execution_count": 1,
   "id": "dcb04fa6-1e72-4aad-8e38-ac2cd2033760",
   "metadata": {},
   "outputs": [
    {
     "data": {
      "text/plain": [
       "4"
      ]
     },
     "execution_count": 1,
     "metadata": {},
     "output_type": "execute_result"
    }
   ],
   "source": [
    "def len_napis (str1):\n",
    "    length = 0\n",
    "    for znak in str1:\n",
    "        length +=1\n",
    "    return length\n",
    "\n",
    "len_napis(\"kuba\")"
   ]
  },
  {
   "cell_type": "code",
   "execution_count": 21,
   "id": "f8b9dece-e4a1-4402-b2a8-85d20c04ce97",
   "metadata": {},
   "outputs": [],
   "source": [
    "def char_freq(str1):\n",
    "    str1 = str1.lower()\n",
    "    dict1 ={}\n",
    "    for char in str1:\n",
    "        keys = list(dict1.keys())\n",
    "        if char in keys:\n",
    "            dict1[char] +=1\n",
    "        else:\n",
    "            dict1[char] =1\n",
    "    return dict1"
   ]
  },
  {
   "cell_type": "code",
   "execution_count": 23,
   "id": "27478c64-8497-4d6d-bb28-343a9dfc2632",
   "metadata": {},
   "outputs": [
    {
     "data": {
      "text/plain": [
       "{'n': 2, 'a': 2, 'p': 2, 'i': 2, 's': 2, ' ': 1}"
      ]
     },
     "execution_count": 23,
     "metadata": {},
     "output_type": "execute_result"
    }
   ],
   "source": [
    "char_freq(\"napis Napis\")"
   ]
  },
  {
   "cell_type": "code",
   "execution_count": 27,
   "id": "68385562-21d0-4e2c-bc68-ab444bac25c3",
   "metadata": {},
   "outputs": [
    {
     "name": "stdout",
     "output_type": "stream",
     "text": [
      "nais\n",
      "naap\n"
     ]
    }
   ],
   "source": [
    "def two_two(str1):\n",
    "    if len(str1) > 2:\n",
    "        wynik = str1[:2] +str1[-2:]\n",
    "        return wynik\n",
    "    else:\n",
    "        return None\n",
    "print(two_two(\"napis\" ))\n",
    "print(two_two(\"nap\"))\n",
    "        "
   ]
  },
  {
   "cell_type": "code",
   "execution_count": null,
   "id": "854133ba-4b7c-48b5-ad91-3c30ad14ac86",
   "metadata": {},
   "outputs": [],
   "source": []
  }
 ],
 "metadata": {
  "kernelspec": {
   "display_name": "Python 3 (ipykernel)",
   "language": "python",
   "name": "python3"
  },
  "language_info": {
   "codemirror_mode": {
    "name": "ipython",
    "version": 3
   },
   "file_extension": ".py",
   "mimetype": "text/x-python",
   "name": "python",
   "nbconvert_exporter": "python",
   "pygments_lexer": "ipython3",
   "version": "3.12.7"
  }
 },
 "nbformat": 4,
 "nbformat_minor": 5
}
