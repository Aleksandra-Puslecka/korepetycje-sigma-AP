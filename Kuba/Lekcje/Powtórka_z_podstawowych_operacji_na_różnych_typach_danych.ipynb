{
 "cells": [
  {
   "cell_type": "markdown",
   "id": "13402267",
   "metadata": {},
   "source": [
    "## Zadania z podstawowych operacji na strukturach danych"
   ]
  },
  {
   "cell_type": "markdown",
   "metadata": {},
   "source": [
    "### 0. Stringi"
   ]
  },
  {
   "cell_type": "code",
   "execution_count": null,
   "metadata": {},
   "outputs": [],
   "source": [
    "# Zmień cały tekst na wielkie litery.\n",
    "# Zwróć długość tego stringa.\n",
    "# Zamień słowo \"dżem\" na \"ser\".\n",
    "\n",
    "txt = \"Langusty żywią się owocami morza, ale gdyby mogły jadłyby dżem\""
   ]
  },
  {
   "cell_type": "markdown",
   "id": "29447e25",
   "metadata": {},
   "source": [
    "### 1. Listy"
   ]
  },
  {
   "cell_type": "code",
   "execution_count": null,
   "id": "fd503ffa",
   "metadata": {},
   "outputs": [],
   "source": [
    "\n",
    "# Zadanie: Utwórz listę liczb od 1 do 10, a następnie:\n",
    "# - Dodaj do niej liczbę 11\n",
    "# - Usuń pierwszą wartość\n",
    "# - Odwróć kolejność elementów\n",
    "# - Oblicz sumę wszystkich elementów\n",
    "# - Użyj funkcji sortującej na liście\n",
    "# - Dodaj element 30 na końcu listy.\n",
    "# - Usuń pierwszy element z listy.\n",
    "# - Zamień trzeci element listy na wartość 50.\n",
    "# - Zwróć długość listy.\n",
    "# - Dodaj element 25 na drugą pozycję w liście.\n",
    "# - Usuń element 30.\n",
    "\n",
    "\n",
    "\n"
   ]
  },
  {
   "cell_type": "markdown",
   "id": "438996a6",
   "metadata": {},
   "source": [
    "### 2. Słowniki"
   ]
  },
  {
   "cell_type": "code",
   "execution_count": null,
   "id": "d047e105",
   "metadata": {},
   "outputs": [],
   "source": [
    "\n",
    "# Zadanie: Utwórz słownik z imionami i wiekiem 3 osób.\n",
    "# - Dodaj nową osobę\n",
    "# - Zmień wiek jednej osoby\n",
    "# - Usuń jedną osobę\n",
    "# - Wypisz wszystkie klucze i wartości\n",
    "\n",
    "\n"
   ]
  },
  {
   "cell_type": "markdown",
   "id": "91ffb3e1",
   "metadata": {},
   "source": [
    "### 3. Krotki"
   ]
  },
  {
   "cell_type": "code",
   "execution_count": null,
   "id": "c751f5e6",
   "metadata": {},
   "outputs": [],
   "source": [
    "\n",
    "# Zadanie: Utwórz krotkę z 5 liczbami i:\n",
    "# - Wypisz jej pierwszy oraz ostatni element\n",
    "# - Policz, ile razy występuje w niej liczba 3\n",
    "# - Sprawdź, czy liczba 10 znajduje się w krotce\n",
    "\n"
   ]
  },
  {
   "cell_type": "markdown",
   "id": "cb6c67fc",
   "metadata": {},
   "source": [
    "### 4. Zbiory (sety)"
   ]
  },
  {
   "cell_type": "code",
   "execution_count": null,
   "id": "a164d150",
   "metadata": {},
   "outputs": [],
   "source": [
    "\n",
    "# Zadanie: Utwórz dwa zbiory i wykonaj na nich operacje:\n",
    "# - Dodaj nowy element do pierwszego zbioru\n",
    "# - Usuń element z drugiego zbioru\n",
    "# - Oblicz część wspólną i sumę zbiorów\n",
    "\n",
    "\n"
   ]
  },
  {
   "cell_type": "markdown",
   "id": "ef31bc92",
   "metadata": {},
   "source": [
    "### 5. NumPy Arrays"
   ]
  },
  {
   "cell_type": "code",
   "execution_count": null,
   "id": "b24690d4",
   "metadata": {},
   "outputs": [],
   "source": [
    "\n",
    "import numpy as np\n",
    "\n",
    "# Zadanie: Utwórz tablicę NumPy z liczbami od 1 do 10 i wykonaj operacje:\n",
    "# - Dodaj do każdego elementu 5\n",
    "# - Oblicz średnią wartości\n",
    "# - Oblicz sumę wszystkich elementów\n",
    "\n",
    "\n"
   ]
  },
  {
   "cell_type": "markdown",
   "id": "feb635e0",
   "metadata": {},
   "source": [
    "### 6. Operacje na wartościach boolowskich"
   ]
  },
  {
   "cell_type": "code",
   "execution_count": null,
   "id": "baa84fed",
   "metadata": {},
   "outputs": [],
   "source": [
    "\n",
    "# Zadanie: Wykonaj operacje logiczne na wartościach boolowskich.\n",
    "# - Sprawdź wynik AND, OR i XOR dla True i False\n",
    "# - Zastosuj operację NOT\n",
    "\n",
    "a = True\n",
    "b = False\n",
    "\n"
   ]
  }
 ],
 "metadata": {
  "kernelspec": {
   "display_name": "Python 3",
   "language": "python",
   "name": "python3"
  },
  "language_info": {
   "codemirror_mode": {
    "name": "ipython",
    "version": 3
   },
   "file_extension": ".py",
   "mimetype": "text/x-python",
   "name": "python",
   "nbconvert_exporter": "python",
   "pygments_lexer": "ipython3",
   "version": "3.13.1"
  }
 },
 "nbformat": 4,
 "nbformat_minor": 2
}
